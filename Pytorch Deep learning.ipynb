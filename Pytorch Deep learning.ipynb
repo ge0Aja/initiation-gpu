{
 "cells": [
  {
   "cell_type": "code",
   "execution_count": 1,
   "metadata": {},
   "outputs": [],
   "source": [
    "import os\n",
    "import sys\n",
    "\n",
    "import numpy as np\n",
    "import pandas as pd\n",
    "\n",
    "import matplotlib as mpl\n",
    "import matplotlib.pyplot as plt\n",
    "\n",
    "import seaborn as sns\n",
    "\n",
    "import torch\n",
    "import torch.nn as nn\n",
    "import torch.nn.functional as F\n",
    "import torch.optim as optim\n",
    "\n",
    "%matplotlib inline"
   ]
  },
  {
   "cell_type": "markdown",
   "metadata": {},
   "source": [
    "# Introduction\n",
    "\n",
    "We will use Pytorch to do solve 101 Deep learning problems.\n",
    "\n",
    "These excercies will focus on the use of Pytorch to define, train and use neural networks."
   ]
  },
  {
   "cell_type": "code",
   "execution_count": null,
   "metadata": {},
   "outputs": [],
   "source": []
  },
  {
   "cell_type": "markdown",
   "metadata": {},
   "source": [
    "# Neural network achitecture\n",
    "\n",
    "The first step is to define some neural network architecture.\n",
    "\n",
    "In Pytorch we use the `Module` class.\n",
    "Basically a `Module` is a block that can do *forward* and *backward* propagation.\n",
    "Every part of a neural network is a `Module`.\n",
    "\n",
    "You can define a custom `Module` subclass by combining already existing modules and functions.\n",
    "To do so you have to initialize the sublayer if needed and define the `forward()` method.\n",
    "\n",
    "Example :\n"
   ]
  },
  {
   "cell_type": "code",
   "execution_count": 2,
   "metadata": {},
   "outputs": [],
   "source": [
    "class RectifiedSigmoidLayer(nn.Module):\n",
    "    def __init__(self, D_in, D_out):\n",
    "        super().__init__()\n",
    "        self.fc = nn.Linear(D_in, D_out)\n",
    "    \n",
    "    def forward(self, x):\n",
    "        x = self.fc(x)\n",
    "        x = F.relu(x)\n",
    "        x = F.sigmoid(x)\n",
    "        return x"
   ]
  },
  {
   "cell_type": "markdown",
   "metadata": {},
   "source": [
    "## Exercice 1 : Play with number of layer and neurons\n",
    "\n",
    "A neural network is also a `Module` since we can do forward and backward propagation on it.\n",
    "\n",
    "Complex neural network structures are often built with smaller repetitive blocks. \n",
    "Let's practice building those blocks.\n",
    "\n",
    "For all these question the input and output dimension are user-defined. The non-linearities should be ReLU.\n",
    "\n",
    "1. Define a 3 layers fully connected neural network with 40 neurons in each layer. \n",
    "2. Same as previous question but with a *n*-layers neural network (*n* is given by user). Astuce `nn.ModuleList` or `nn.ModuleDict`\n",
    "3. Define a *n*-layer fully connected network in which the number of neuron start at *k* and double at each layer.\n",
    "4. Define a *n*-layer fully connected network in which the number of neuron start at *k* and is divided by 2 at each layer.\n",
    "5. Define a fully connected network for which the number of neurons for each layer is given as a list. \n",
    "\n"
   ]
  },
  {
   "cell_type": "code",
   "execution_count": 3,
   "metadata": {},
   "outputs": [],
   "source": [
    "class Exo1Q1(nn.Module):\n",
    "    \"\"\"Define a 3 layers fully connected neural network with 40 neurons in each layer.\"\"\"\n",
    "    def __init__(self, D_in, D_out):\n",
    "        super().__init__()\n",
    "        self.fc1 = nn.Linear(D_in, 40)\n",
    "        self.fc2 = nn.Linear(40, 40)\n",
    "        self.fc3 = nn.Linear(40, D_out)\n",
    "    \n",
    "    def forward(self, x):\n",
    "        x = self.fc1(x).clamp(min=0)\n",
    "        x = self.fc2(x).clamp(min=0)\n",
    "        x = self.fc3(x).clamp(min=0)\n",
    "        return x"
   ]
  },
  {
   "cell_type": "code",
   "execution_count": 4,
   "metadata": {},
   "outputs": [
    {
     "name": "stdout",
     "output_type": "stream",
     "text": [
      "Exo1Q1(\n",
      "  (fc1): Linear(in_features=18, out_features=40, bias=True)\n",
      "  (fc2): Linear(in_features=40, out_features=40, bias=True)\n",
      "  (fc3): Linear(in_features=40, out_features=2, bias=True)\n",
      ")\n"
     ]
    }
   ],
   "source": [
    "print(Exo1Q1(18, 2))"
   ]
  },
  {
   "cell_type": "code",
   "execution_count": 5,
   "metadata": {},
   "outputs": [],
   "source": [
    "class Exo1Q2(nn.Module):\n",
    "    \"\"\"Same as previous question but with a n-layers neural network (n is given by user)\"\"\"\n",
    "    def __init__(self, D_in, D_out, n_layer):\n",
    "        super().__init__()\n",
    "        in_dims =  [D_in] + [40] * n_layer\n",
    "        out_dims =  [40] * n_layer + [D_out]\n",
    "        self.fc_list = nn.ModuleList([nn.Linear(in_dim, out_dim) for in_dim, out_dim in zip(in_dims, out_dims) ])\n",
    "    \n",
    "    def forward(self, x):\n",
    "        for fc in self.fc_list:\n",
    "            x = fc(x).clamp(min=0)\n",
    "        return x"
   ]
  },
  {
   "cell_type": "code",
   "execution_count": 6,
   "metadata": {},
   "outputs": [
    {
     "name": "stdout",
     "output_type": "stream",
     "text": [
      "Exo1Q2(\n",
      "  (fc_list): ModuleList(\n",
      "    (0): Linear(in_features=18, out_features=40, bias=True)\n",
      "    (1): Linear(in_features=40, out_features=40, bias=True)\n",
      "    (2): Linear(in_features=40, out_features=40, bias=True)\n",
      "    (3): Linear(in_features=40, out_features=40, bias=True)\n",
      "    (4): Linear(in_features=40, out_features=40, bias=True)\n",
      "    (5): Linear(in_features=40, out_features=2, bias=True)\n",
      "  )\n",
      ")\n"
     ]
    }
   ],
   "source": [
    "print(Exo1Q2(18, 2, 5))"
   ]
  },
  {
   "cell_type": "code",
   "execution_count": 7,
   "metadata": {},
   "outputs": [],
   "source": [
    "class Exo1Q3(nn.Module):\n",
    "    \"\"\"Define a n-layer fully connected network in which the number of neuron start at k and double at each layer.\"\"\"\n",
    "    def __init__(self, D_in, D_out, k, n_layer):\n",
    "        super().__init__()\n",
    "        in_dims =  [D_in] + [(2**i)*k for i in range(n_layer)]\n",
    "        out_dims =  [(2**i)*k for i in range(n_layer)] + [D_out]\n",
    "        self.fc_list = nn.ModuleList([nn.Linear(in_dim, out_dim) for in_dim, out_dim in zip(in_dims, out_dims) ])\n",
    "    \n",
    "    def forward(self, x):\n",
    "        for fc in self.fc_list:\n",
    "            x = fc(x).clamp(min=0)\n",
    "        return x"
   ]
  },
  {
   "cell_type": "code",
   "execution_count": 8,
   "metadata": {},
   "outputs": [
    {
     "name": "stdout",
     "output_type": "stream",
     "text": [
      "Exo1Q3(\n",
      "  (fc_list): ModuleList(\n",
      "    (0): Linear(in_features=18, out_features=5, bias=True)\n",
      "    (1): Linear(in_features=5, out_features=10, bias=True)\n",
      "    (2): Linear(in_features=10, out_features=20, bias=True)\n",
      "    (3): Linear(in_features=20, out_features=40, bias=True)\n",
      "    (4): Linear(in_features=40, out_features=80, bias=True)\n",
      "    (5): Linear(in_features=80, out_features=3, bias=True)\n",
      "  )\n",
      ")\n"
     ]
    }
   ],
   "source": [
    "print(Exo1Q3(18, 3, 5, 5))"
   ]
  },
  {
   "cell_type": "code",
   "execution_count": 9,
   "metadata": {},
   "outputs": [],
   "source": [
    "class Exo1Q4(nn.Module):\n",
    "    \"\"\"Define a n-layer fully connected network in which the number of neuron start at k\n",
    "    and is divided by 2 at each layer.\"\"\"\n",
    "    def __init__(self, D_in, D_out, k, n_layer):\n",
    "        super().__init__()\n",
    "        in_dims =  [D_in] + [k//(2**i) for i in range(n_layer)]\n",
    "        out_dims =  [k//(2**i) for i in range(n_layer)] + [D_out]\n",
    "        self.fc_list = nn.ModuleList([nn.Linear(in_dim, out_dim) for in_dim, out_dim in zip(in_dims, out_dims) ])\n",
    "    \n",
    "    def forward(self, x):\n",
    "        for fc in self.fc_list:\n",
    "            x = fc(x).clamp(min=0)\n",
    "        return x"
   ]
  },
  {
   "cell_type": "code",
   "execution_count": 10,
   "metadata": {},
   "outputs": [
    {
     "name": "stdout",
     "output_type": "stream",
     "text": [
      "Exo1Q4(\n",
      "  (fc_list): ModuleList(\n",
      "    (0): Linear(in_features=38, out_features=80, bias=True)\n",
      "    (1): Linear(in_features=80, out_features=40, bias=True)\n",
      "    (2): Linear(in_features=40, out_features=20, bias=True)\n",
      "    (3): Linear(in_features=20, out_features=10, bias=True)\n",
      "    (4): Linear(in_features=10, out_features=5, bias=True)\n",
      "    (5): Linear(in_features=5, out_features=3, bias=True)\n",
      "  )\n",
      ")\n"
     ]
    }
   ],
   "source": [
    "print(Exo1Q4(38, 3, 80, 5))"
   ]
  },
  {
   "cell_type": "code",
   "execution_count": 11,
   "metadata": {},
   "outputs": [],
   "source": [
    "class Exo1Q5(nn.Module):\n",
    "    \"\"\"Define a fully connected network for which the number of neurons for each layer is given as a list\"\"\"\n",
    "    def __init__(self, D_in, D_out, n_neurons):\n",
    "        super().__init__()\n",
    "        in_dims =  [D_in] + n_neurons\n",
    "        out_dims =  n_neurons + [D_out]\n",
    "        self.fc_list = nn.ModuleList([nn.Linear(in_dim, out_dim) for in_dim, out_dim in zip(in_dims, out_dims) ])\n",
    "    \n",
    "    def forward(self, x):\n",
    "        for fc in self.fc_list:\n",
    "            x = fc(x).clamp(min=0)\n",
    "        return x"
   ]
  },
  {
   "cell_type": "code",
   "execution_count": 12,
   "metadata": {},
   "outputs": [
    {
     "name": "stdout",
     "output_type": "stream",
     "text": [
      "Exo1Q5(\n",
      "  (fc_list): ModuleList(\n",
      "    (0): Linear(in_features=30, out_features=5, bias=True)\n",
      "    (1): Linear(in_features=5, out_features=7, bias=True)\n",
      "    (2): Linear(in_features=7, out_features=8, bias=True)\n",
      "    (3): Linear(in_features=8, out_features=4, bias=True)\n",
      "  )\n",
      ")\n"
     ]
    }
   ],
   "source": [
    "print(Exo1Q5(30, 4, [5, 7, 8]))"
   ]
  },
  {
   "cell_type": "code",
   "execution_count": null,
   "metadata": {},
   "outputs": [],
   "source": []
  },
  {
   "cell_type": "markdown",
   "metadata": {},
   "source": [
    "## Convolutionnal layers\n",
    "\n",
    "When the input features have some spatial structure as in images (nearby pixels) or in sound or text (nearby letter/word) the use of convolution layer is relevant to extract local structure.\n",
    "\n",
    "With convolution layer the output shape depend on the input shape. See https://pytorch.org/docs/stable/nn.html#torch.nn.Conv2d for documentation.\n",
    "\n",
    "Moreover convolution layer are almost always followed by some dimension reduction with max pooling or average pooling.\n",
    "\n",
    "We can use convolution in the same way as fully connected. See example :"
   ]
  },
  {
   "cell_type": "code",
   "execution_count": 16,
   "metadata": {},
   "outputs": [],
   "source": [
    "class ConvNet(nn.Module):\n",
    "    def __init__(self):\n",
    "        super().__init__()\n",
    "        self.conv1 = nn.Conv2d(1, 10, kernel_size=5)\n",
    "        self.conv2 = nn.Conv2d(10, 20, kernel_size=5)\n",
    "        self.conv2_drop = nn.Dropout2d()\n",
    "        self.fc1 = nn.Linear(320, 50)\n",
    "        self.fc2 = nn.Linear(50, 10)\n",
    "\n",
    "    def forward(self, x):\n",
    "        x = F.relu(F.max_pool2d(self.conv1(x), 2))\n",
    "        x = F.relu(F.max_pool2d(self.conv2_drop(self.conv2(x)), 2))\n",
    "        x = x.view(-1, 320)\n",
    "        x = F.relu(self.fc1(x))\n",
    "        x = F.dropout(x, training=self.training)\n",
    "        x = self.fc2(x)\n",
    "        return F.log_softmax(x, dim=1)"
   ]
  },
  {
   "cell_type": "code",
   "execution_count": 17,
   "metadata": {},
   "outputs": [
    {
     "name": "stdout",
     "output_type": "stream",
     "text": [
      "ConvNet(\n",
      "  (conv1): Conv2d(1, 10, kernel_size=(5, 5), stride=(1, 1))\n",
      "  (conv2): Conv2d(10, 20, kernel_size=(5, 5), stride=(1, 1))\n",
      "  (conv2_drop): Dropout2d(p=0.5)\n",
      "  (fc1): Linear(in_features=320, out_features=50, bias=True)\n",
      "  (fc2): Linear(in_features=50, out_features=10, bias=True)\n",
      ")\n"
     ]
    }
   ],
   "source": [
    "print(ConvNet())"
   ]
  },
  {
   "cell_type": "markdown",
   "metadata": {},
   "source": [
    "## Exercice 2 : draw me a sheep\n",
    "\n",
    "1. Draw a diagram of the previously defined ConvNet. The diagram should show each operation (conv layer, dense layer, max pooling, non-linearity, dropout, etc) applied to the input.\n"
   ]
  },
  {
   "cell_type": "markdown",
   "metadata": {},
   "source": [
    "## Exercice 3 : More complex structure\n",
    "\n",
    "Most neural networks are sequential neural networks but it is just as easy to build more complex structure.\n",
    "\n",
    "Using the forward() method define the following structures :\n",
    "\n",
    "1. A simple addition ![First structure](exo3Q1.png \"Simple add\")\n",
    "2. Shorcuts can help training (see *deep residual learning*) ![Second structure](exo3Q2.png \"Shortcuts\")\n",
    "3. You want to go crasy ? Reimplement some of the [Inception modules](https://towardsdatascience.com/a-simple-guide-to-the-versions-of-the-inception-network-7fc52b863202) \n"
   ]
  },
  {
   "cell_type": "code",
   "execution_count": 18,
   "metadata": {},
   "outputs": [],
   "source": [
    "class Exo3Q1(nn.Module):\n",
    "    \"\"\"Define a fully connected network for which the number of neurons for each layer is given as a list\"\"\"\n",
    "    def __init__(self, D_in, D_out):\n",
    "        super().__init__()\n",
    "        self.fc1a = nn.Linear(D_in, 15)\n",
    "        self.fc2a = nn.Linear(15, 23)\n",
    "\n",
    "        self.fc1b = nn.Linear(D_in, 6)\n",
    "        self.fc2b = nn.Linear(6, 23)\n",
    "        \n",
    "        self.fc3 = nn.Linear(23, 18)\n",
    "        self.fc4 = nn.Linear(10, D_out)\n",
    "\n",
    "    def forward(self, x):\n",
    "        x1 = self.fc1a(x).clamp(min=0)\n",
    "        x1 = self.fc2a(x1).clamp(min=0)\n",
    "        \n",
    "        x2 = F.sigmoid(self.fc1b(x))\n",
    "        x2 = F.sigmoid(self.fc2b(x2))\n",
    "        \n",
    "        x = self.fc3(x1+x2).clamp(min=0)\n",
    "        x = self.fc4(x)\n",
    "        return x"
   ]
  },
  {
   "cell_type": "code",
   "execution_count": 19,
   "metadata": {},
   "outputs": [],
   "source": [
    "class Exo3Q2a(nn.Module):\n",
    "    \"\"\"Define a fully connected network for which the number of neurons for each layer is given as a list\"\"\"\n",
    "    def __init__(self, D_in, D_out):\n",
    "        super().__init__()\n",
    "        self.fc1 = nn.Linear(D_in, 15)\n",
    "        self.fc2 = nn.Linear(15, 23)\n",
    "        self.fc3 = nn.Linear(23, 15)\n",
    "        self.fc4 = nn.Linear(15, 23)\n",
    "        self.fc5 = nn.Linear(23, 18)\n",
    "        self.fc6 = nn.Linear(18, 10)\n",
    "\n",
    "    def forward(self, x):\n",
    "        x1 = self.fc1(x).clamp(min=0)\n",
    "        x = (x + self.fc2(x1)).clamp(min=0)\n",
    "        x1 = self.fc3(x).clamp(min=0)\n",
    "        x = (x + self.fc4(x1)).clamp(min=0)\n",
    "        x = self.fc5(x).clamp(min=0)\n",
    "        x = self.fc6(x)\n",
    "        return x"
   ]
  },
  {
   "cell_type": "code",
   "execution_count": 19,
   "metadata": {},
   "outputs": [],
   "source": [
    "class Exo3Q2SubBlock(nn.Module):\n",
    "    def __init__(self, D_in, D_out):\n",
    "        self.fc1 = nn.Linear(D_in, 15)\n",
    "        self.fc2 = nn.Linear(15, D_out)\n",
    "\n",
    "    def forward(self, x):\n",
    "        x1 = self.fc1(x).clamp(min=0)\n",
    "        x = (x + self.fc2(x1)).clamp(min=0)\n",
    "\n",
    "        \n",
    "class Exo3Q2b(nn.Module):\n",
    "    \"\"\"Define a fully connected network for which the number of neurons for each layer is given as a list\"\"\"\n",
    "    def __init__(self, D_in, D_out):\n",
    "        super().__init__()\n",
    "        self.shortcut1 = Exo3Q2SubBlock(D_in, 23)\n",
    "        self.shortcut2 = Exo3Q2SubBlock(23, 23)\n",
    "        self.fc5 = nn.Linear(23, 18)\n",
    "        self.fc6 = nn.Linear(18, 10)\n",
    "\n",
    "    def forward(self, x):\n",
    "        x = self.shortcut1(x)\n",
    "        x = self.shortcut2(x)\n",
    "        x = self.fc5(x).clamp(min=0)\n",
    "        x = self.fc6(x)\n",
    "        return x"
   ]
  },
  {
   "cell_type": "code",
   "execution_count": null,
   "metadata": {},
   "outputs": [],
   "source": []
  },
  {
   "cell_type": "markdown",
   "metadata": {},
   "source": [
    "# MNIST\n",
    "\n",
    "The \"hello world\" of Machine Learning.\n",
    "\n",
    "The MNIST dataset contains 70k 28x28 grayscale images of handwritten digits \"0123456789\".\n",
    "The name of the game is to automatically recognize the digit from the image.\n",
    "\n",
    "Once the neural network architecture is defined one should focus on training it to some task.\n",
    "Here it will be classification."
   ]
  },
  {
   "cell_type": "code",
   "execution_count": 20,
   "metadata": {},
   "outputs": [
    {
     "name": "stdout",
     "output_type": "stream",
     "text": [
      "Done.\n"
     ]
    }
   ],
   "source": [
    "from mydata.mnist import load_mnist\n",
    "\n",
    "X, y = load_mnist()"
   ]
  },
  {
   "cell_type": "markdown",
   "metadata": {},
   "source": [
    "Some examples"
   ]
  },
  {
   "cell_type": "code",
   "execution_count": 21,
   "metadata": {},
   "outputs": [
    {
     "data": {
      "image/png": "[encoded data removed]",
      "text/plain": [
       "<matplotlib.figure.Figure at 0x7fca3b1bb3c8>"
      ]
     },
     "metadata": {},
     "output_type": "display_data"
    }
   ],
   "source": [
    "fig, axes = plt.subplots(nrows=2, ncols=3, figsize=(15, 10))\n",
    "\n",
    "n_sample = X.shape[0]\n",
    "for ax in np.ravel(axes):\n",
    "    i = np.random.randint(0, n_sample)\n",
    "    img = X[i].reshape(28,28)\n",
    "    ax.imshow(img, cmap='gray')\n",
    "    ax.set_title(\"label = {}\".format(y[i]))"
   ]
  },
  {
   "cell_type": "markdown",
   "metadata": {},
   "source": [
    "## Helper functions\n",
    "\n",
    "Here is a bunch of function that will ease data handling.\n",
    "\n",
    "Fist, a `Module` can only take `Variable` as input in order to automatically compute gradients.\n",
    "\n",
    "*make_variable(array)* will transform `numpy.ndarray` into `Variable` and send it to the GPU if asked to."
   ]
  },
  {
   "cell_type": "code",
   "execution_count": 28,
   "metadata": {},
   "outputs": [],
   "source": [
    "from torch.autograd import Variable\n",
    "\n",
    "\n",
    "def make_variable(arr, cuda=True):\n",
    "    \"\"\"\n",
    "    Transform given numpy array to a torch.autograd.Variable\n",
    "    \"\"\"\n",
    "    var = Variable(torch.from_numpy(arr))\n",
    "    if cuda:\n",
    "        var = var.cuda()\n",
    "    return var\n"
   ]
  },
  {
   "cell_type": "markdown",
   "metadata": {},
   "source": [
    "Second, we will need to feed the neural network with small batch of the training data.\n",
    "Mini-batch gradient descent is the best way to optimize models and has been unchallenged for quite some time now.\n",
    "\n",
    "We define here some functions to shuffle and split some arrays and yield them as small bunch.\n",
    "\n",
    "*epoch_shuffle()* that will produce minibatch of the given arrays and reshuffle the data when it finishes an epoch. This means *epoch_shuffle()* will never stop sending minibatches !\n",
    "\n",
    "This :\n",
    "```\n",
    "for x in epoch_shuffle(data):\n",
    "    do stuff\n",
    "```\n",
    "IS INFINITE LOOP\n",
    "\n",
    "\n",
    "\n",
    "*one_epoch()*  will not shuffle the data and will stop once all the samples has been returned one time.\n"
   ]
  },
  {
   "cell_type": "code",
   "execution_count": 27,
   "metadata": {},
   "outputs": [],
   "source": [
    "def assert_arrays_have_same_shape(*arrays):\n",
    "    length = arrays[0].shape[0]\n",
    "    # Assert that every array have the same 1st dimension length:\n",
    "    for i, arr in enumerate(arrays):\n",
    "        assert arr.shape[0] == length, \"Every array should have the same shape: \" \\\n",
    "            \" array {} length = {}  but expected length = {} \".format(i + 1, arr.shape[0], length)\n",
    "\n",
    "\n",
    "def epoch_shuffle(*args, batch_size=None, shuffle=True):\n",
    "    \"\"\"\n",
    "    Return a generator taking 'batch_size' random samples from X and y.\n",
    "    \"\"\"\n",
    "    if batch_size is None:\n",
    "        raise ValueError('batch_size should not be None !')\n",
    "    if len(args) == 0:\n",
    "        raise ValueError('minibatching must take at least one array')\n",
    "    assert_arrays_have_same_shape(*args)\n",
    "\n",
    "    size = args[0].shape[0]\n",
    "    assert size > batch_size, 'batch_size should be smaller than the number of samples in the given arrays'\n",
    "\n",
    "    while(True):\n",
    "        if shuffle:\n",
    "            indices = np.arange(size)\n",
    "            np.random.shuffle(indices)\n",
    "        for start_idx in range(0, size - batch_size + 1, batch_size):\n",
    "            if shuffle:\n",
    "                excerpt = indices[start_idx:start_idx + batch_size]\n",
    "            else:\n",
    "                excerpt = slice(start_idx, start_idx + batch_size)\n",
    "            yield tuple(arr[excerpt] for arr in args)\n",
    "\n",
    "\n",
    "def one_epoch(*arrays, batch_size=None):\n",
    "    if batch_size is None:\n",
    "        raise ValueError('batch_size should not be None !')\n",
    "    if len(arrays) == 0:\n",
    "        raise ValueError('minibatching must take at least one array')\n",
    "    assert_arrays_have_same_shape(*arrays)\n",
    "    \n",
    "    size = arrays[0].shape[0]\n",
    "    assert size > batch_size, 'batch_size should be smaller than the number of samples in the given arrays'\n",
    "    \n",
    "    for i in range(0, size, batch_size):\n",
    "        excerpt = slice(i, i + batch_size)\n",
    "        yield tuple(arr[excerpt] for arr in arrays) if len(arrays) > 1 else arrays[0][excerpt]\n",
    "        \n"
   ]
  },
  {
   "cell_type": "markdown",
   "metadata": {},
   "source": [
    "## Setup the training\n",
    "\n",
    "Then the training algorithm is quite simple :\n",
    "\n",
    "1. turn data into minibatch\n",
    "2. for n iterations :\n",
    "    1. turn minibatch array into variables\n",
    "    2. clean the optimizer (it accumulates the gradient by default)\n",
    "    3. do forward propagation through the network\n",
    "    4. do forward propagation through the loss function\n",
    "    5. do backward propagation to compute the gradients\n",
    "    6. use the optimizer to do a gradient descent step (update the trainable parameters of the network)\n",
    "    7. monitor some stuff\n",
    "3. return some training information"
   ]
  },
  {
   "cell_type": "code",
   "execution_count": 22,
   "metadata": {},
   "outputs": [],
   "source": [
    "from sklearn.model_selection import train_test_split "
   ]
  },
  {
   "cell_type": "code",
   "execution_count": 29,
   "metadata": {},
   "outputs": [],
   "source": [
    "def train(model, optimizer, data_generator, n_iter=5000, cuda=True, log_interval=100):\n",
    "    losses = []\n",
    "    model.train()\n",
    "    # Turn data into minibatch\n",
    "    for batch_idx, (X_batch, y_batch) in zip(range(n_iter), data_generator):\n",
    "        # turn minibatch into variables\n",
    "        X_batch = make_variable(X_batch, cuda=cuda)\n",
    "        y_batch = make_variable(y_batch, cuda=cuda)\n",
    "        \n",
    "        # clean optimizer (it accumulates the gradient by default) \n",
    "        optimizer.zero_grad()\n",
    "        \n",
    "        # do forward propagation through the network\n",
    "        y_pred = model(X_batch)\n",
    "        \n",
    "        # do forward propagation through the loss function\n",
    "        loss = F.nll_loss(y_pred, y_batch)\n",
    "        \n",
    "        # do backward propagation to compute the gradients\n",
    "        loss.backward()\n",
    "        \n",
    "        # use the optimizer to do a gradient descent step (update the trainable parameters of the network)\n",
    "        optimizer.step()\n",
    "        \n",
    "        # monitor some stuff\n",
    "        losses.append(loss.item())\n",
    "        if batch_idx % log_interval == 0:\n",
    "            print('Train iter: [{}/{} ({:.0f}%)]\\tLoss: {:.6f}'.format(\n",
    "                batch_idx, n_iter, 100. * batch_idx / n_iter, loss.item()))\n",
    "    return losses\n"
   ]
  },
  {
   "cell_type": "markdown",
   "metadata": {},
   "source": [
    "Prepare the data, the neural network, the optimizer, the minibatch generator."
   ]
  },
  {
   "cell_type": "code",
   "execution_count": 30,
   "metadata": {},
   "outputs": [],
   "source": [
    "# Reshape image to expected [n_sample, n_channel, width, height]\n",
    "X = X.reshape(-1, 1, 28, 28)\n",
    "\n",
    "# cast uint8 to long\n",
    "y = y.astype(np.int64)\n",
    "\n",
    "# Split data into train and test set\n",
    "X_train, X_test, y_train, y_test = train_test_split(X, y, test_size=0.2)\n",
    "\n",
    "# Get the network\n",
    "net = ConvNet()\n",
    "\n",
    "# Send the network to gpu\n",
    "net = net.cuda()\n",
    "\n",
    "# The optimizer\n",
    "optimizer = optim.SGD(net.parameters(), lr=1e-3)\n",
    "#optimizer = optim.Adam(net.parameters())\n",
    "\n",
    "# minibatch\n",
    "data_generator = epoch_shuffle(X_train, y_train, batch_size=512)"
   ]
  },
  {
   "cell_type": "markdown",
   "metadata": {},
   "source": [
    "## Train the model"
   ]
  },
  {
   "cell_type": "code",
   "execution_count": 31,
   "metadata": {},
   "outputs": [
    {
     "name": "stdout",
     "output_type": "stream",
     "text": [
      "Train iter: [0/5000 (0%)]\tLoss: 2.304036\n",
      "Train iter: [300/5000 (6%)]\tLoss: 2.303723\n",
      "Train iter: [600/5000 (12%)]\tLoss: 2.301183\n",
      "Train iter: [900/5000 (18%)]\tLoss: 2.296165\n",
      "Train iter: [1200/5000 (24%)]\tLoss: 2.287281\n",
      "Train iter: [1500/5000 (30%)]\tLoss: 2.271066\n",
      "Train iter: [1800/5000 (36%)]\tLoss: 2.266221\n",
      "Train iter: [2100/5000 (42%)]\tLoss: 2.265505\n",
      "Train iter: [2400/5000 (48%)]\tLoss: 2.233307\n",
      "Train iter: [2700/5000 (54%)]\tLoss: 2.208639\n",
      "Train iter: [3000/5000 (60%)]\tLoss: 2.193981\n",
      "Train iter: [3300/5000 (66%)]\tLoss: 2.155369\n",
      "Train iter: [3600/5000 (72%)]\tLoss: 2.127007\n",
      "Train iter: [3900/5000 (78%)]\tLoss: 2.035942\n",
      "Train iter: [4200/5000 (84%)]\tLoss: 1.924324\n",
      "Train iter: [4500/5000 (90%)]\tLoss: 1.836123\n",
      "Train iter: [4800/5000 (96%)]\tLoss: 1.726394\n"
     ]
    }
   ],
   "source": [
    "losses = train(net, optimizer, data_generator, n_iter=5000, cuda=True, log_interval=300)"
   ]
  },
  {
   "cell_type": "code",
   "execution_count": 32,
   "metadata": {},
   "outputs": [
    {
     "data": {
      "image/png": "[encoded data removed]",
      "text/plain": [
       "<matplotlib.figure.Figure at 0x7fca39099198>"
      ]
     },
     "metadata": {},
     "output_type": "display_data"
    }
   ],
   "source": [
    "plt.plot(losses)\n",
    "plt.xlabel(\"# iter\")\n",
    "plt.ylabel(\"loss (nll)\")\n",
    "plt.title(\"Training loss\")\n",
    "plt.show()"
   ]
  },
  {
   "cell_type": "markdown",
   "metadata": {},
   "source": [
    "### Keep training"
   ]
  },
  {
   "cell_type": "code",
   "execution_count": 35,
   "metadata": {},
   "outputs": [
    {
     "name": "stdout",
     "output_type": "stream",
     "text": [
      "Train iter: [0/5000 (0%)]\tLoss: 1.680967\n",
      "Train iter: [300/5000 (6%)]\tLoss: 1.531569\n",
      "Train iter: [600/5000 (12%)]\tLoss: 1.514263\n",
      "Train iter: [900/5000 (18%)]\tLoss: 1.345272\n",
      "Train iter: [1200/5000 (24%)]\tLoss: 1.214594\n",
      "Train iter: [1500/5000 (30%)]\tLoss: 1.236856\n",
      "Train iter: [1800/5000 (36%)]\tLoss: 1.235309\n",
      "Train iter: [2100/5000 (42%)]\tLoss: 1.126662\n",
      "Train iter: [2400/5000 (48%)]\tLoss: 1.075298\n",
      "Train iter: [2700/5000 (54%)]\tLoss: 1.014982\n",
      "Train iter: [3000/5000 (60%)]\tLoss: 0.981033\n",
      "Train iter: [3300/5000 (66%)]\tLoss: 0.950804\n",
      "Train iter: [3600/5000 (72%)]\tLoss: 0.855966\n",
      "Train iter: [3900/5000 (78%)]\tLoss: 0.961886\n",
      "Train iter: [4200/5000 (84%)]\tLoss: 0.946353\n",
      "Train iter: [4500/5000 (90%)]\tLoss: 1.011871\n",
      "Train iter: [4800/5000 (96%)]\tLoss: 0.926590\n"
     ]
    }
   ],
   "source": [
    "losses = losses + train(net, optimizer, data_generator, n_iter=5000, cuda=True, log_interval=300)"
   ]
  },
  {
   "cell_type": "code",
   "execution_count": 36,
   "metadata": {},
   "outputs": [
    {
     "data": {
      "image/png": "[encoded data removed]",
      "text/plain": [
       "<matplotlib.figure.Figure at 0x7fca3b574b38>"
      ]
     },
     "metadata": {},
     "output_type": "display_data"
    }
   ],
   "source": [
    "plt.plot(losses)\n",
    "plt.xlabel(\"# iter\")\n",
    "plt.ylabel(\"loss (nll)\")\n",
    "plt.title(\"Training loss\")\n",
    "plt.show()"
   ]
  },
  {
   "cell_type": "markdown",
   "metadata": {},
   "source": [
    "## Test the model"
   ]
  },
  {
   "cell_type": "code",
   "execution_count": 33,
   "metadata": {},
   "outputs": [],
   "source": [
    "def predict(model, X, batch_size=512, cuda=True):\n",
    "    predictions = []\n",
    "    model.eval()\n",
    "    with torch.no_grad():\n",
    "        for X_batch in one_epoch(X, batch_size=batch_size):\n",
    "            X_batch = make_variable(X_batch, cuda=cuda)\n",
    "            y_log_proba = model(X_batch)\n",
    "            y_pred = y_log_proba.max(1, keepdim=True)[1]\n",
    "            predictions.extend(y_pred.cpu().data.numpy())\n",
    "        return np.array(predictions)\n"
   ]
  },
  {
   "cell_type": "code",
   "execution_count": 37,
   "metadata": {},
   "outputs": [
    {
     "name": "stdout",
     "output_type": "stream",
     "text": [
      "accuracy :  0.8522857142857143\n"
     ]
    }
   ],
   "source": [
    "y_pred = predict(net, X_test)\n",
    "print('accuracy : ', np.mean(y_pred.ravel() == y_test))"
   ]
  },
  {
   "cell_type": "code",
   "execution_count": null,
   "metadata": {},
   "outputs": [],
   "source": []
  },
  {
   "cell_type": "markdown",
   "metadata": {},
   "source": [
    "# Summary\n",
    "\n",
    "This is one iteration of the search to solve a problem with deep learning.\n",
    "- Define some netowrk structure\n",
    "- Setup training/testing data\n",
    "- Run the gradient descent algorithm\n",
    "- Analyse monitored information and the final performances\n",
    "\n",
    "This loop is parametrized by many parameter:\n",
    "- Optimizer\n",
    "- learning rate, learning rate momentum, cycle length, etc\n",
    "- Neural network architecture\n",
    "- minibatch size\n",
    "\n",
    "They are called **hyper-parameters** as opposed to **parameters** that usually refer to the parameters that are trained with gradient descent.\n",
    "\n",
    "The next part will be the implementation of some hyper-parameter search.\n"
   ]
  },
  {
   "cell_type": "code",
   "execution_count": null,
   "metadata": {},
   "outputs": [],
   "source": []
  },
  {
   "cell_type": "markdown",
   "metadata": {},
   "source": [
    "# Hyper-parameter search\n",
    "\n",
    "As stated in the previous section hyper-parameter search can be boiled down to a big loop gathering the model definition, training and evaluation.\n",
    "\n",
    "\n",
    "\n"
   ]
  },
  {
   "cell_type": "code",
   "execution_count": null,
   "metadata": {},
   "outputs": [],
   "source": []
  },
  {
   "cell_type": "markdown",
   "metadata": {},
   "source": [
    "## Cross validation\n",
    "\n",
    "- To compute both average and variance of the performances according to data split (and initialization ?)\n",
    "- **Keep some data in the vault and don't touch it anymore !**\n",
    "\n"
   ]
  },
  {
   "cell_type": "code",
   "execution_count": null,
   "metadata": {},
   "outputs": [],
   "source": []
  },
  {
   "cell_type": "markdown",
   "metadata": {},
   "source": [
    "## Pimp my ride\n",
    "\n",
    "- Monitoring\n",
    "- save models\n",
    "- \n"
   ]
  },
  {
   "cell_type": "code",
   "execution_count": null,
   "metadata": {},
   "outputs": [],
   "source": []
  },
  {
   "cell_type": "markdown",
   "metadata": {},
   "source": [
    "## Hyper parameter sampler\n",
    "\n",
    "- Grid search vs random search vs fancy black box optimization\n"
   ]
  },
  {
   "cell_type": "code",
   "execution_count": null,
   "metadata": {},
   "outputs": [],
   "source": []
  }
 ],
 "metadata": {
  "kernelspec": {
   "display_name": "Python 3",
   "language": "python",
   "name": "python3"
  },
  "language_info": {
   "codemirror_mode": {
    "name": "ipython",
    "version": 3
   },
   "file_extension": ".py",
   "mimetype": "text/x-python",
   "name": "python",
   "nbconvert_exporter": "python",
   "pygments_lexer": "ipython3",
   "version": "3.5.4"
  },
  "toc": {
   "nav_menu": {},
   "number_sections": false,
   "sideBar": true,
   "skip_h1_title": false,
   "toc_cell": false,
   "toc_position": {
    "height": "823px",
    "left": "0px",
    "right": "1561px",
    "top": "111px",
    "width": "359px"
   },
   "toc_section_display": "block",
   "toc_window_display": true
  }
 },
 "nbformat": 4,
 "nbformat_minor": 2
}
