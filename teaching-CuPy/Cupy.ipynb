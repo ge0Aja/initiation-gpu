{
 "cells": [
  {
   "cell_type": "markdown",
   "metadata": {},
   "source": [
    "# Cupy Tutorial\n",
    "\n",
    "This short tutorial introduces Cupy, a library that presents itself as the equivalent of numpy for GPUs"
   ]
  },
  {
   "cell_type": "code",
   "execution_count": 1,
   "metadata": {},
   "outputs": [],
   "source": [
    "import numpy as np\n",
    "import cupy as cp"
   ]
  },
  {
   "cell_type": "markdown",
   "metadata": {},
   "source": [
    "And here is a small example of how the two libraries are similar."
   ]
  },
  {
   "cell_type": "code",
   "execution_count": null,
   "metadata": {},
   "outputs": [],
   "source": [
    "x_cpu = np.array([1, 2, 3])\n",
    "l2_cpu = np.linalg.norm(x_cpu)\n",
    "print(l2_cpu)\n",
    "\n",
    "# We can calculate it on GPU with CuPy in a similar way:\n",
    "x_gpu = cp.array([1, 2, 3])\n",
    "l2_gpu = cp.linalg.norm(x_gpu)\n",
    "print(l2_gpu)\n"
   ]
  },
  {
   "cell_type": "markdown",
   "metadata": {},
   "source": [
    "\n",
    "# Move arrays to a device\n",
    "\n",
    "cupy.asarray() can be used to move a numpy.ndarray, a list, or any object that can be passed to numpy.array() to the current device:\n",
    "```python\n",
    "x_cpu = np.array([1, 2, 3])\n",
    "x_gpu = cp.asarray(x_cpu)  # move the data to the current device.\n",
    "```\n",
    "cupy.asarray() can accept cupy.ndarray, which means we can transfer the array between devices with this function.\n",
    "\n",
    "```python\n",
    "with cp.cuda.Device(0):\n",
    "    x_gpu_0 = cp.ndarray([1, 2, 3])  # create an array in GPU 0\n",
    "with cp.cuda.Device(1):\n",
    "    x_gpu_1 = cp.asarray(x_gpu_0)  # move the array to GPU 1\n",
    "```\n"
   ]
  },
  {
   "cell_type": "markdown",
   "metadata": {},
   "source": [
    "# Exercice 1:\n",
    "\n",
    "Cupy Sandbox: Try out Matrix multiplications, and compare the speed w/ numpy depending on the size of the array"
   ]
  },
  {
   "cell_type": "code",
   "execution_count": null,
   "metadata": {},
   "outputs": [],
   "source": [
    "from time import time\n",
    "size = 50\n",
    "a_cpu = np.random.randn(100, size)\n",
    "b_cpu = np.random.randn(size, 100)\n",
    "\n",
    "a_gpu = cp.asarray(a_cpu)\n",
    "b_gpu = cp.asarray(b_cpu)"
   ]
  },
  {
   "cell_type": "code",
   "execution_count": null,
   "metadata": {},
   "outputs": [],
   "source": [
    "t = time()\n",
    "for i in range(100):\n",
    "    # perform the same matrix multiplication on numpy\n",
    "print(\"100 matrix multiplications for arrays of size (100x{}) performed on cpu in {}\".format(size, time()-t))\n",
    "\n",
    "t = time()\n",
    "for i in range(100):\n",
    "    # perform the same matrix multiplication on cupy\n",
    "print(\"100 matrix multiplications for arrays of size (100x{}) performed on gpu in {}\".format(size, time()-t))\n"
   ]
  },
  {
   "cell_type": "markdown",
   "metadata": {},
   "source": [
    "# Exercice 2: \n",
    "\n",
    "Compute the SVD (singular value decomposition) of the given array, using cupy\n",
    "Try also to compare with numpy (time-wise)."
   ]
  },
  {
   "cell_type": "code",
   "execution_count": null,
   "metadata": {},
   "outputs": [],
   "source": [
    "a1 = np.random.randn(500, 500)\n",
    "from time import time"
   ]
  },
  {
   "cell_type": "code",
   "execution_count": null,
   "metadata": {},
   "outputs": [],
   "source": [
    "t = time()\n",
    "# numpy code here\n",
    "\n",
    "print(time()-t)"
   ]
  },
  {
   "cell_type": "code",
   "execution_count": null,
   "metadata": {},
   "outputs": [],
   "source": [
    "t = time()\n",
    "# cupy code here\n",
    "\n",
    "print(time()-t)"
   ]
  },
  {
   "cell_type": "markdown",
   "metadata": {},
   "source": [
    "# Exercice 3 (Bonus):\n",
    "\n",
    "Code a user-defined kernel. Here is a small tutorial on how to code kernels: https://docs-cupy.chainer.org/en/stable/tutorial/kernel.html\n",
    "\n",
    "The exercice is to compute the softmax function (https://fr.wikipedia.org/wiki/Fonction_softmax) , on the inputs x,y,z  (3 categories) using a kernel. "
   ]
  },
  {
   "cell_type": "code",
   "execution_count": 3,
   "metadata": {},
   "outputs": [],
   "source": [
    "x = cp.random.randn(100)\n",
    "y = cp.random.randn(100)\n",
    "z = cp.random.randn(100)\n"
   ]
  },
  {
   "cell_type": "code",
   "execution_count": null,
   "metadata": {},
   "outputs": [],
   "source": []
  }
 ],
 "metadata": {
  "kernelspec": {
   "display_name": "Python 3",
   "language": "python",
   "name": "python3"
  },
  "language_info": {
   "codemirror_mode": {
    "name": "ipython",
    "version": 3
   },
   "file_extension": ".py",
   "mimetype": "text/x-python",
   "name": "python",
   "nbconvert_exporter": "python",
   "pygments_lexer": "ipython3",
   "version": "3.5.2"
  }
 },
 "nbformat": 4,
 "nbformat_minor": 2
}
